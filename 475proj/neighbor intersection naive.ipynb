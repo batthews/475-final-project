{
 "cells": [
  {
   "cell_type": "code",
   "execution_count": 1,
   "metadata": {},
   "outputs": [],
   "source": [
    "import pandas as pd\n",
    "import geopandas as gpd\n",
    "import matplotlib\n",
    "import descartes"
   ]
  },
  {
   "cell_type": "code",
   "execution_count": 2,
   "metadata": {},
   "outputs": [],
   "source": [
    "import numpy as np"
   ]
  },
  {
   "cell_type": "code",
   "execution_count": 3,
   "metadata": {},
   "outputs": [],
   "source": [
    "import shapely\n",
    "import shapely.wkt\n",
    "from collections import deque"
   ]
  },
  {
   "cell_type": "code",
   "execution_count": 4,
   "metadata": {},
   "outputs": [],
   "source": [
    "#path to the raw school district file and the raw precinct file\n",
    "#I unzipped both zip files\n",
    "districts_shp_path = 'districts/districts/School_Districts_1920.shp'\n",
    "districts_frame = gpd.read_file(districts_shp_path)\n",
    "districts_frame['geometry'] = districts_frame['geometry'].buffer(0)\n",
    "general_shp_path = 'general/general/2016General.shp'\n",
    "general_frame = gpd.read_file(general_shp_path)\n",
    "school_voter_path = 'DistrictVoterData.csv'\n",
    "voting_frame = pd.read_csv(school_voter_path)"
   ]
  },
  {
   "cell_type": "code",
   "execution_count": 5,
   "metadata": {},
   "outputs": [],
   "source": [
    "general_frame['geometry'] = general_frame['geometry'].buffer(0)\n",
    "districts_frame['geometry'] = districts_frame['geometry'].buffer(0)"
   ]
  },
  {
   "cell_type": "code",
   "execution_count": 8,
   "metadata": {},
   "outputs": [],
   "source": [
    "districts_frame = districts_frame[['DISTRICT_N', 'geometry']]\n",
    "super_districts_path = 'ESC_Regions.shp'\n",
    "super_districts_frame = gpd.read_file(super_districts_path)\n",
    "super_districts_frame['geometry'] = super_districts_frame['geometry'].buffer(0)"
   ]
  },
  {
   "cell_type": "code",
   "execution_count": 9,
   "metadata": {},
   "outputs": [],
   "source": [
    "super_districts_frame = super_districts_frame[['REGION','geometry']]"
   ]
  },
  {
   "cell_type": "code",
   "execution_count": 12,
   "metadata": {},
   "outputs": [],
   "source": [
    "#is cleaning up the school district, with the region. They weren't extactly perfect so we mapped\n",
    "#the school district with its super region if it had a 90% overlap\n",
    "output_super_join = gpd.sjoin(districts_frame.to_crs('EPSG:4326'),super_districts_frame, op = 'intersects')\n",
    "output_super_join['percent_overlap'] = output_super_join.apply(lambda x: x['geometry'].intersection(super_districts_frame.iloc[x['index_right']]['geometry']).area / x['geometry'].area*100, axis=1)     \n",
    "output_super_join = output_super_join[output_super_join.percent_overlap > 90]"
   ]
  },
  {
   "cell_type": "code",
   "execution_count": 277,
   "metadata": {},
   "outputs": [],
   "source": [
    "#returns the top votes grouped by newly allocated region\n",
    "def recalculate_top_votes(total_votes):\n",
    "    voting_region = total_votes.groupby('NEWLY_ALLOCATED').sum()\n",
    "    voting_region = voting_region[['VOTES']].sort_values('VOTES', ascending = False)\n",
    "    voting_region = voting_region.reset_index()\n",
    "    return voting_region"
   ]
  },
  {
   "cell_type": "code",
   "execution_count": 280,
   "metadata": {},
   "outputs": [],
   "source": [
    "#this takes in a geopandas frame, and retruns the index in the frame, that has the northernmost point \n",
    "def find_starting_geom(district_frame):\n",
    "    g = [i for i in district_frame.geometry]\n",
    "    all_coords = []\n",
    "    i = 0\n",
    "    for geo in g:\n",
    "        #if (type(geo) == shapely.geometry.Polygon):\n",
    "        coords = []\n",
    "        if (str(geo.type) == 'Polygon'):\n",
    "            transition = list(geo.exterior.coords)\n",
    "            for point in transition:\n",
    "                coords.append(point)\n",
    "        #is of type multipolygon\n",
    "        else:\n",
    "            flat_list = []\n",
    "            list_poly = []\n",
    "            for poly in geo:\n",
    "                list_poly.append(list(poly.exterior.coords))\n",
    "            for poly in list_poly:\n",
    "                for point in poly:\n",
    "                    flat_list.append(point)\n",
    "\n",
    "        all_coords.append((i, coords))\n",
    "        i+= 1\n",
    "    index_southernest = -1;\n",
    "    furthest_total = -1;\n",
    "    for school in all_coords:\n",
    "        furthest_coord_y = -1;\n",
    "        for point in school[1]:\n",
    "            if (point[1] > furthest_coord_y):\n",
    "                furthest_coord_y = point[1]\n",
    "        if (furthest_coord_y > furthest_total):\n",
    "            index_southernest = school[0]\n",
    "            furthest_total = furthest_coord_y\n",
    "    return index_southernest"
   ]
  },
  {
   "cell_type": "code",
   "execution_count": 281,
   "metadata": {},
   "outputs": [],
   "source": [
    "from math import radians, cos, sin, asin, sqrt\n",
    "#used for centroid distance calculation\n",
    "def haversine(lon1, lat1, lon2, lat2):\n",
    "    \"\"\"\n",
    "    Calculate the great circle distance between two points \n",
    "    on the earth (specified in decimal degrees)\n",
    "    \"\"\"\n",
    "    # convert decimal degrees to radians \n",
    "    lon1, lat1, lon2, lat2 = map(radians, [lon1, lat1, lon2, lat2])\n",
    "\n",
    "    # haversine formula \n",
    "    dlon = lon2 - lon1 \n",
    "    dlat = lat2 - lat1 \n",
    "    a = sin(dlat/2)**2 + cos(lat1) * cos(lat2) * sin(dlon/2)**2\n",
    "    c = 2 * asin(sqrt(a)) \n",
    "    r = 3956 # Radius of earth in miles. Use 6371 for kilometers\n",
    "    return c * r"
   ]
  },
  {
   "cell_type": "code",
   "execution_count": 389,
   "metadata": {},
   "outputs": [
    {
     "data": {
      "text/html": [
       "<div>\n",
       "<style scoped>\n",
       "    .dataframe tbody tr th:only-of-type {\n",
       "        vertical-align: middle;\n",
       "    }\n",
       "\n",
       "    .dataframe tbody tr th {\n",
       "        vertical-align: top;\n",
       "    }\n",
       "\n",
       "    .dataframe thead th {\n",
       "        text-align: right;\n",
       "    }\n",
       "</style>\n",
       "<table border=\"1\" class=\"dataframe\">\n",
       "  <thead>\n",
       "    <tr style=\"text-align: right;\">\n",
       "      <th></th>\n",
       "      <th>DISTRICT_N</th>\n",
       "      <th>geometry</th>\n",
       "      <th>index_right</th>\n",
       "      <th>REGION</th>\n",
       "      <th>percent_overlap</th>\n",
       "      <th>PTY</th>\n",
       "      <th>VOTES</th>\n",
       "      <th>NEWLY_ALLOCATED</th>\n",
       "    </tr>\n",
       "  </thead>\n",
       "  <tbody>\n",
       "    <tr>\n",
       "      <th>0</th>\n",
       "      <td>73901</td>\n",
       "      <td>POLYGON ((-96.99308 31.40669, -96.99297 31.406...</td>\n",
       "      <td>11</td>\n",
       "      <td>12</td>\n",
       "      <td>100.0</td>\n",
       "      <td>D</td>\n",
       "      <td>178.0</td>\n",
       "      <td>12</td>\n",
       "    </tr>\n",
       "    <tr>\n",
       "      <th>0</th>\n",
       "      <td>73901</td>\n",
       "      <td>POLYGON ((-96.99308 31.40669, -96.99297 31.406...</td>\n",
       "      <td>11</td>\n",
       "      <td>12</td>\n",
       "      <td>100.0</td>\n",
       "      <td>I</td>\n",
       "      <td>17.0</td>\n",
       "      <td>12</td>\n",
       "    </tr>\n",
       "    <tr>\n",
       "      <th>0</th>\n",
       "      <td>73901</td>\n",
       "      <td>POLYGON ((-96.99308 31.40669, -96.99297 31.406...</td>\n",
       "      <td>11</td>\n",
       "      <td>12</td>\n",
       "      <td>100.0</td>\n",
       "      <td>R</td>\n",
       "      <td>480.0</td>\n",
       "      <td>12</td>\n",
       "    </tr>\n",
       "    <tr>\n",
       "      <th>76</th>\n",
       "      <td>18908</td>\n",
       "      <td>POLYGON ((-97.75760 31.85712, -97.75616 31.855...</td>\n",
       "      <td>11</td>\n",
       "      <td>12</td>\n",
       "      <td>100.0</td>\n",
       "      <td>D</td>\n",
       "      <td>85.0</td>\n",
       "      <td>12</td>\n",
       "    </tr>\n",
       "    <tr>\n",
       "      <th>76</th>\n",
       "      <td>18908</td>\n",
       "      <td>POLYGON ((-97.75760 31.85712, -97.75616 31.855...</td>\n",
       "      <td>11</td>\n",
       "      <td>12</td>\n",
       "      <td>100.0</td>\n",
       "      <td>I</td>\n",
       "      <td>10.0</td>\n",
       "      <td>12</td>\n",
       "    </tr>\n",
       "  </tbody>\n",
       "</table>\n",
       "</div>"
      ],
      "text/plain": [
       "    DISTRICT_N                                           geometry  \\\n",
       "0        73901  POLYGON ((-96.99308 31.40669, -96.99297 31.406...   \n",
       "0        73901  POLYGON ((-96.99308 31.40669, -96.99297 31.406...   \n",
       "0        73901  POLYGON ((-96.99308 31.40669, -96.99297 31.406...   \n",
       "76       18908  POLYGON ((-97.75760 31.85712, -97.75616 31.855...   \n",
       "76       18908  POLYGON ((-97.75760 31.85712, -97.75616 31.855...   \n",
       "\n",
       "    index_right REGION  percent_overlap PTY  VOTES  NEWLY_ALLOCATED  \n",
       "0            11     12            100.0   D  178.0               12  \n",
       "0            11     12            100.0   I   17.0               12  \n",
       "0            11     12            100.0   R  480.0               12  \n",
       "76           11     12            100.0   D   85.0               12  \n",
       "76           11     12            100.0   I   10.0               12  "
      ]
     },
     "execution_count": 389,
     "metadata": {},
     "output_type": "execute_result"
    }
   ],
   "source": [
    "#Join up the school district frame, with the voting frame on district_n\n",
    "join_w_data = output_super_join.join(voting_frame.set_index('DISTRICT_N'), on='DISTRICT_N' ,how = 'left')\n",
    "join_w_data['NEWLY_ALLOCATED'] = join_w_data['REGION'].astype(int)\n",
    "join_w_data.head()"
   ]
  },
  {
   "cell_type": "code",
   "execution_count": 390,
   "metadata": {},
   "outputs": [
    {
     "data": {
      "text/html": [
       "<div>\n",
       "<style scoped>\n",
       "    .dataframe tbody tr th:only-of-type {\n",
       "        vertical-align: middle;\n",
       "    }\n",
       "\n",
       "    .dataframe tbody tr th {\n",
       "        vertical-align: top;\n",
       "    }\n",
       "\n",
       "    .dataframe thead th {\n",
       "        text-align: right;\n",
       "    }\n",
       "</style>\n",
       "<table border=\"1\" class=\"dataframe\">\n",
       "  <thead>\n",
       "    <tr style=\"text-align: right;\">\n",
       "      <th></th>\n",
       "      <th>NEWLY_ALLOCATED</th>\n",
       "      <th>VOTES</th>\n",
       "    </tr>\n",
       "  </thead>\n",
       "  <tbody>\n",
       "    <tr>\n",
       "      <th>0</th>\n",
       "      <td>4</td>\n",
       "      <td>1774277.0</td>\n",
       "    </tr>\n",
       "    <tr>\n",
       "      <th>1</th>\n",
       "      <td>10</td>\n",
       "      <td>1272735.0</td>\n",
       "    </tr>\n",
       "    <tr>\n",
       "      <th>2</th>\n",
       "      <td>11</td>\n",
       "      <td>1102963.0</td>\n",
       "    </tr>\n",
       "    <tr>\n",
       "      <th>3</th>\n",
       "      <td>13</td>\n",
       "      <td>967361.0</td>\n",
       "    </tr>\n",
       "    <tr>\n",
       "      <th>4</th>\n",
       "      <td>20</td>\n",
       "      <td>664822.0</td>\n",
       "    </tr>\n",
       "  </tbody>\n",
       "</table>\n",
       "</div>"
      ],
      "text/plain": [
       "   NEWLY_ALLOCATED      VOTES\n",
       "0                4  1774277.0\n",
       "1               10  1272735.0\n",
       "2               11  1102963.0\n",
       "3               13   967361.0\n",
       "4               20   664822.0"
      ]
     },
     "execution_count": 390,
     "metadata": {},
     "output_type": "execute_result"
    }
   ],
   "source": [
    "voting_region = join_w_data.groupby('NEWLY_ALLOCATED').sum()\n",
    "voting_region = voting_region[['VOTES']].sort_values('VOTES', ascending = False)\n",
    "voting_region = voting_region.reset_index()\n",
    "voting_region.head()"
   ]
  },
  {
   "cell_type": "code",
   "execution_count": 394,
   "metadata": {
    "scrolled": true
   },
   "outputs": [
    {
     "name": "stdout",
     "output_type": "stream",
     "text": [
      "21\n",
      "4.0\n",
      "1774277.0\n",
      "[146904, 146907, 146905, 146906, 146902, 146901, 146903, 36901, 101925, 36902, 101906, 36903, 84902, 84901, 101911, 101913, 84910, 101916, 101924, 84906, 20905, 20902, 84908, 84909, 101908, 101905, 101902, 101912, 101917]\n",
      "deque([20908, 84911, 101910, 20906, 20907, 79901, 79906, 20901, 20904, 79907, 101919, 101915, 101907, 101920, 79910, 101903, 101914])\n",
      "\n",
      "\n",
      "22\n",
      "10.0\n",
      "1272735.0\n",
      "[91909, 91914, 91913, 91902, 91906, 91905, 91917, 91903, 91907, 91901, 91918, 91908, 43903, 74911, 91910, 43902, 43907, 43912, 74905, 74903, 74912, 43917, 43908, 43919, 43901, 43905, 43911, 74917, 74904, 74907, 116909, 74909, 43904, 116902, 116915, 43910, 43914, 43918, 116903, 116905, 116901, 57916, 57909, 57905]\n",
      "deque([57903, 199901, 199902, 116910, 116906, 116908, 57914, 57919, 57913, 57911, 57907, 57906, 70905, 129901, 57912, 57910, 129902])\n",
      "\n",
      "\n",
      "23\n",
      "11.0\n",
      "1102963.0\n",
      "[49909, 49902, 49907, 49901, 49906, 49905, 49903, 61908, 249908, 49908, 61903, 61905, 61901, 249901, 249905, 61907, 61906, 61912, 61910, 61914, 61902, 61911, 249904, 249903, 249906, 249902, 220906, 220919, 220907, 220918, 220915, 184901, 184902, 220916, 220902]\n",
      "deque([220910, 220905, 184903, 220920, 184907, 184908, 220901])\n",
      "\n",
      "\n",
      "24\n",
      "13.0\n",
      "967361.0\n",
      "[246902, 246907, 246908, 27903, 246904, 246905, 246913, 150901, 27904, 246911, 246909, 246906, 166905, 246912, 227913, 227909, 227901]\n",
      "deque([227912, 16901, 86901, 227904, 246914, 144902, 105904, 105906, 227910, 227907])\n",
      "\n",
      "\n",
      "25\n",
      "20.0\n",
      "664822.0\n",
      "[133905, 193902, 133904, 133902, 232904, 10901, 232902, 232903, 133903, 163902, 133901, 10902, 232901, 82903, 254902, 254901, 136901, 159901, 163904, 15915, 130901, 163908, 82902, 142901, 7901, 163901, 64903, 15912, 15910]\n",
      "deque([15905, 15907, 15913, 163903, 7904, 7902, 7906, 15917, 15904, 15908, 15909, 15914, 15901, 15916])\n",
      "\n",
      "\n",
      "26\n",
      "7.0\n",
      "345636.0\n",
      "[250907, 250904, 250902, 230904, 230905, 250903, 250905, 250906, 212910, 212903, 230901, 230902, 92901, 234906, 190903, 234904, 212909, 212905, 230903, 230906, 92908, 92903, 230908, 92906, 234905, 107902, 234909, 234903, 201908, 212901, 212906, 212902, 102905, 102904, 92907]\n",
      "deque([92904, 92902, 201910, 107901, 107908, 107910, 1904, 201904, 201914, 212904, 37904, 102902])\n",
      "\n",
      "\n",
      "27\n",
      "1.0\n",
      "328456.0\n",
      "[240903, 253901, 240901, 240904, 214903, 124901, 214902, 214901, 108904, 108912, 108908, 108906, 108911]\n",
      "deque([108909, 108903, 108913, 108902, 108915, 245903, 245901, 108905, 108916])\n",
      "\n",
      "\n",
      "28\n",
      "12.0\n",
      "258833.0\n",
      "[175911, 175903, 175902, 175910, 175907, 81905, 81902, 175904, 175905, 81904, 147903, 81906, 109908, 147901, 109905, 109902, 147902, 109914, 161908, 109910, 161918, 109904, 109901, 73903, 161916, 161924, 161912, 161906, 109907, 109903, 109911, 109913, 109912, 73901, 161922, 73905, 161921, 161925, 161914, 18903, 18902, 18901, 18907, 161920, 18904, 161907, 161919, 161903, 73904, 14907, 14910]\n",
      "deque([161923, 18905, 18908, 18906, 50909, 50902, 161901, 161910, 161909, 14909, 14905, 14901, 14902, 14903])\n",
      "\n",
      "\n",
      "29\n",
      "19.0\n",
      "196610.0\n",
      "[71901, 115901, 71908, 71903, 71904, 71909, 115902, 115903, 71902]\n",
      "deque([71905, 71907])\n",
      "\n",
      "\n",
      "30\n",
      "2.0\n",
      "174456.0\n",
      "[13903, 13902, 13901, 149902, 149901, 13905, 162904, 125903, 125901, 205904, 66902, 205906, 66903, 178913, 178901, 137901, 178905, 178902, 125902, 178903, 205905, 125905, 66901, 4901, 205907, 205902, 178909, 137904, 137903, 137902, 178915, 178906, 178912, 125906, 66005, 178908, 205901]\n",
      "deque([178904, 205903, 24901, 131001, 178914])\n",
      "\n",
      "\n",
      "31\n",
      "5.0\n",
      "161406.0\n",
      "[121902, 176901, 121904, 176902, 121905, 229901, 229903, 121903, 176903, 229904, 229905, 229906, 121906, 100904, 181908, 181907, 100903, 100907, 181906, 181905, 123910]\n",
      "deque([100908, 100905, 181901, 123908, 123905, 123907, 123914])\n",
      "\n",
      "\n",
      "32\n",
      "6.0\n",
      "135018.0\n",
      "[145907, 113902, 145902, 145901, 113906, 113905, 113901, 113903, 145906, 154901, 145911, 228905, 228904, 228901, 228903, 236902, 154903, 198903, 21902, 93903, 93901, 187904, 187910, 204901, 187907, 236901, 93905, 198901, 198905, 198902, 198906, 26903, 26901, 21901]\n",
      "deque([170903, 93904, 187906, 170904, 187903, 204904, 187901, 166902, 166901, 26902, 239901, 166904, 166903])\n",
      "\n",
      "\n",
      "33\n",
      "16.0\n",
      "130507.0\n",
      "[211902, 171902, 171901, 103902, 56901, 56902, 211901, 98901, 98903, 33902, 117903, 117904, 103901, 188904, 188903, 98904, 197902, 117901, 191901, 33904, 6902, 33901, 117907, 180904, 180901, 180902, 180903, 188902, 188901]\n",
      "deque([179901, 106901, 148901, 90904, 242906, 35901, 59901, 219901, 90905, 23902, 65901, 90903, 59902])\n",
      "\n",
      "\n",
      "34\n",
      "17.0\n",
      "126661.0\n",
      "[140907, 9901, 140908, 140905, 140904, 140901, 40902, 40901, 95905, 95903, 95902, 110901, 95901, 110908, 110902, 251902, 223901, 110907, 77902, 77901, 95904, 110906, 152909, 152902, 152910, 223902, 110905, 251901, 153904, 223904, 83901, 63903, 173901, 54903, 54901, 54902, 152907, 152901]\n",
      "deque([152908, 153905, 83903, 85902, 153903, 153907, 58902, 83902, 63906, 132902, 135001, 51901, 85903, 152903, 152906])\n",
      "\n",
      "\n",
      "35\n",
      "18.0\n",
      "113665.0\n",
      "[114901, 156905, 114902, 114904, 156902, 2901, 87901, 165901, 165902]\n",
      "deque([248901, 68901, 231902, 192901])\n",
      "\n",
      "\n",
      "36\n",
      "3.0\n",
      "101518.0\n",
      "[45902, 45905, 45903, 143901, 241903, 241902, 143905, 143906, 143903, 143902, 120901, 143904, 158902, 158901, 241904, 241906, 120902, 241901, 62903, 235902]\n",
      "deque([120905, 158905, 158906, 158904, 62901, 235904, 235901, 196901, 62906, 196903, 88902])\n",
      "\n",
      "\n"
     ]
    }
   ],
   "source": [
    "join_w_data['NEWLY_ALLOCATED'] = join_w_data['REGION'].astype(int)\n",
    "top_votes = 0\n",
    "#16 new regions\n",
    "for i in range(21,37):\n",
    "    #get the top region without replacmenet in terms of votes\n",
    "    district_to_split = voting_region.iloc[0+top_votes]\n",
    "    \n",
    "    #progress_bar\n",
    "    print(i)\n",
    "   \n",
    "    #Region to split on\n",
    "    region_split_on = voting_region.iloc[0+top_votes]['NEWLY_ALLOCATED']\n",
    "    total_votes_needed = district_to_split['VOTES'] /2\n",
    "    districts_to_seperate = join_w_data.loc[join_w_data['NEWLY_ALLOCATED'] == district_to_split['NEWLY_ALLOCATED']]\n",
    "    districts_to_seperate = districts_to_seperate.reset_index()\n",
    "    \n",
    "    #starting index that we are splitting on\n",
    "    index_starting = find_starting_geom(districts_to_seperate) \n",
    "    district_num = districts_to_seperate.iloc[index_starting]['DISTRICT_N']\n",
    "    \n",
    "    #stack implementation for adding districts\n",
    "    total_votes = 0\n",
    "    neighbor_stack = deque()\n",
    "    neighbor_stack.append(district_num)\n",
    "    newRegion = []\n",
    "    \n",
    "    #inital district is already in stack. will continue going until neighbor stack is empty or votes are reached.\n",
    "    while(total_votes < total_votes_needed):\n",
    "        district = neighbor_stack.popleft()\n",
    "        newRegion.append(district)\n",
    "        iterative_votes = districts_to_seperate.loc[districts_to_seperate['DISTRICT_N'] == district]['VOTES'].sum()\n",
    "        geom_this_district = districts_to_seperate.loc[districts_to_seperate['DISTRICT_N'] == district].drop_duplicates('DISTRICT_N')\n",
    "        neighbors = districts_to_seperate[districts_to_seperate.geometry.touches(geom_this_district.iloc[0]['geometry'])]\n",
    "        unique_neighbors = neighbors['DISTRICT_N'].unique()\n",
    "        for uniq in unique_neighbors:\n",
    "            if uniq not in neighbor_stack and uniq not in newRegion:\n",
    "                neighbor_stack.append(uniq)\n",
    "        total_votes += iterative_votes\n",
    "    \n",
    "    #reset district to the new split number\n",
    "    for district in newRegion:\n",
    "        join_w_data.loc[join_w_data.DISTRICT_N == district, 'NEWLY_ALLOCATED'] = i\n",
    "    reassigners.append((i, region_split_on, newRegion))\n",
    "    top_votes+=1"
   ]
  },
  {
   "cell_type": "code",
   "execution_count": 392,
   "metadata": {},
   "outputs": [],
   "source": [
    "join_w_data.to_file('nearest_neighbor_queue.shp')"
   ]
  },
  {
   "cell_type": "code",
   "execution_count": 393,
   "metadata": {
    "scrolled": true
   },
   "outputs": [
    {
     "data": {
      "text/html": [
       "<div>\n",
       "<style scoped>\n",
       "    .dataframe tbody tr th:only-of-type {\n",
       "        vertical-align: middle;\n",
       "    }\n",
       "\n",
       "    .dataframe tbody tr th {\n",
       "        vertical-align: top;\n",
       "    }\n",
       "\n",
       "    .dataframe thead th {\n",
       "        text-align: right;\n",
       "    }\n",
       "</style>\n",
       "<table border=\"1\" class=\"dataframe\">\n",
       "  <thead>\n",
       "    <tr style=\"text-align: right;\">\n",
       "      <th></th>\n",
       "      <th>NEWLY_ALLOCATED</th>\n",
       "      <th>VOTES</th>\n",
       "    </tr>\n",
       "  </thead>\n",
       "  <tbody>\n",
       "    <tr>\n",
       "      <th>0</th>\n",
       "      <td>21</td>\n",
       "      <td>890301.0</td>\n",
       "    </tr>\n",
       "    <tr>\n",
       "      <th>1</th>\n",
       "      <td>4</td>\n",
       "      <td>883976.0</td>\n",
       "    </tr>\n",
       "    <tr>\n",
       "      <th>2</th>\n",
       "      <td>22</td>\n",
       "      <td>840972.0</td>\n",
       "    </tr>\n",
       "    <tr>\n",
       "      <th>3</th>\n",
       "      <td>24</td>\n",
       "      <td>602758.0</td>\n",
       "    </tr>\n",
       "    <tr>\n",
       "      <th>4</th>\n",
       "      <td>23</td>\n",
       "      <td>577615.0</td>\n",
       "    </tr>\n",
       "    <tr>\n",
       "      <th>5</th>\n",
       "      <td>11</td>\n",
       "      <td>525348.0</td>\n",
       "    </tr>\n",
       "    <tr>\n",
       "      <th>6</th>\n",
       "      <td>25</td>\n",
       "      <td>445371.0</td>\n",
       "    </tr>\n",
       "    <tr>\n",
       "      <th>7</th>\n",
       "      <td>10</td>\n",
       "      <td>431763.0</td>\n",
       "    </tr>\n",
       "    <tr>\n",
       "      <th>8</th>\n",
       "      <td>13</td>\n",
       "      <td>364603.0</td>\n",
       "    </tr>\n",
       "    <tr>\n",
       "      <th>9</th>\n",
       "      <td>20</td>\n",
       "      <td>219451.0</td>\n",
       "    </tr>\n",
       "    <tr>\n",
       "      <th>10</th>\n",
       "      <td>26</td>\n",
       "      <td>176109.0</td>\n",
       "    </tr>\n",
       "    <tr>\n",
       "      <th>11</th>\n",
       "      <td>7</td>\n",
       "      <td>169527.0</td>\n",
       "    </tr>\n",
       "    <tr>\n",
       "      <th>12</th>\n",
       "      <td>27</td>\n",
       "      <td>166594.0</td>\n",
       "    </tr>\n",
       "    <tr>\n",
       "      <th>13</th>\n",
       "      <td>1</td>\n",
       "      <td>161862.0</td>\n",
       "    </tr>\n",
       "    <tr>\n",
       "      <th>14</th>\n",
       "      <td>29</td>\n",
       "      <td>138545.0</td>\n",
       "    </tr>\n",
       "    <tr>\n",
       "      <th>15</th>\n",
       "      <td>28</td>\n",
       "      <td>132353.0</td>\n",
       "    </tr>\n",
       "    <tr>\n",
       "      <th>16</th>\n",
       "      <td>12</td>\n",
       "      <td>126480.0</td>\n",
       "    </tr>\n",
       "    <tr>\n",
       "      <th>17</th>\n",
       "      <td>31</td>\n",
       "      <td>108846.0</td>\n",
       "    </tr>\n",
       "    <tr>\n",
       "      <th>18</th>\n",
       "      <td>34</td>\n",
       "      <td>100538.0</td>\n",
       "    </tr>\n",
       "    <tr>\n",
       "      <th>19</th>\n",
       "      <td>33</td>\n",
       "      <td>100264.0</td>\n",
       "    </tr>\n",
       "    <tr>\n",
       "      <th>20</th>\n",
       "      <td>8</td>\n",
       "      <td>99837.0</td>\n",
       "    </tr>\n",
       "    <tr>\n",
       "      <th>21</th>\n",
       "      <td>32</td>\n",
       "      <td>94805.0</td>\n",
       "    </tr>\n",
       "    <tr>\n",
       "      <th>22</th>\n",
       "      <td>30</td>\n",
       "      <td>88388.0</td>\n",
       "    </tr>\n",
       "    <tr>\n",
       "      <th>23</th>\n",
       "      <td>2</td>\n",
       "      <td>86068.0</td>\n",
       "    </tr>\n",
       "    <tr>\n",
       "      <th>24</th>\n",
       "      <td>15</td>\n",
       "      <td>82871.0</td>\n",
       "    </tr>\n",
       "    <tr>\n",
       "      <th>25</th>\n",
       "      <td>14</td>\n",
       "      <td>82369.0</td>\n",
       "    </tr>\n",
       "    <tr>\n",
       "      <th>26</th>\n",
       "      <td>9</td>\n",
       "      <td>71502.0</td>\n",
       "    </tr>\n",
       "    <tr>\n",
       "      <th>27</th>\n",
       "      <td>36</td>\n",
       "      <td>70610.0</td>\n",
       "    </tr>\n",
       "    <tr>\n",
       "      <th>28</th>\n",
       "      <td>19</td>\n",
       "      <td>58065.0</td>\n",
       "    </tr>\n",
       "    <tr>\n",
       "      <th>29</th>\n",
       "      <td>35</td>\n",
       "      <td>58014.0</td>\n",
       "    </tr>\n",
       "    <tr>\n",
       "      <th>30</th>\n",
       "      <td>18</td>\n",
       "      <td>55651.0</td>\n",
       "    </tr>\n",
       "    <tr>\n",
       "      <th>31</th>\n",
       "      <td>5</td>\n",
       "      <td>52560.0</td>\n",
       "    </tr>\n",
       "    <tr>\n",
       "      <th>32</th>\n",
       "      <td>6</td>\n",
       "      <td>40213.0</td>\n",
       "    </tr>\n",
       "    <tr>\n",
       "      <th>33</th>\n",
       "      <td>3</td>\n",
       "      <td>30908.0</td>\n",
       "    </tr>\n",
       "    <tr>\n",
       "      <th>34</th>\n",
       "      <td>16</td>\n",
       "      <td>30243.0</td>\n",
       "    </tr>\n",
       "    <tr>\n",
       "      <th>35</th>\n",
       "      <td>17</td>\n",
       "      <td>26123.0</td>\n",
       "    </tr>\n",
       "  </tbody>\n",
       "</table>\n",
       "</div>"
      ],
      "text/plain": [
       "    NEWLY_ALLOCATED     VOTES\n",
       "0                21  890301.0\n",
       "1                 4  883976.0\n",
       "2                22  840972.0\n",
       "3                24  602758.0\n",
       "4                23  577615.0\n",
       "5                11  525348.0\n",
       "6                25  445371.0\n",
       "7                10  431763.0\n",
       "8                13  364603.0\n",
       "9                20  219451.0\n",
       "10               26  176109.0\n",
       "11                7  169527.0\n",
       "12               27  166594.0\n",
       "13                1  161862.0\n",
       "14               29  138545.0\n",
       "15               28  132353.0\n",
       "16               12  126480.0\n",
       "17               31  108846.0\n",
       "18               34  100538.0\n",
       "19               33  100264.0\n",
       "20                8   99837.0\n",
       "21               32   94805.0\n",
       "22               30   88388.0\n",
       "23                2   86068.0\n",
       "24               15   82871.0\n",
       "25               14   82369.0\n",
       "26                9   71502.0\n",
       "27               36   70610.0\n",
       "28               19   58065.0\n",
       "29               35   58014.0\n",
       "30               18   55651.0\n",
       "31                5   52560.0\n",
       "32                6   40213.0\n",
       "33                3   30908.0\n",
       "34               16   30243.0\n",
       "35               17   26123.0"
      ]
     },
     "execution_count": 393,
     "metadata": {},
     "output_type": "execute_result"
    }
   ],
   "source": [
    "recalculate_top_votes(join_w_data)"
   ]
  },
  {
   "cell_type": "code",
   "execution_count": 376,
   "metadata": {},
   "outputs": [
    {
     "data": {
      "text/plain": [
       "<AxesSubplot:>"
      ]
     },
     "execution_count": 376,
     "metadata": {},
     "output_type": "execute_result"
    },
    {
     "data": {
      "image/png": "[encoded data removed]",
      "text/plain": [
       "<Figure size 432x288 with 1 Axes>"
      ]
     },
     "metadata": {
      "needs_background": "light"
     },
     "output_type": "display_data"
    }
   ],
   "source": [
    "join_w_data.loc[join_w_data['NEWLY_ALLOCATED'] == 4]['geometry'].plot()"
   ]
  },
  {
   "cell_type": "code",
   "execution_count": 377,
   "metadata": {},
   "outputs": [
    {
     "data": {
      "text/plain": [
       "<AxesSubplot:>"
      ]
     },
     "execution_count": 377,
     "metadata": {},
     "output_type": "execute_result"
    },
    {
     "data": {
      "image/png": "[encoded data removed]",
      "text/plain": [
       "<Figure size 432x288 with 1 Axes>"
      ]
     },
     "metadata": {
      "needs_background": "light"
     },
     "output_type": "display_data"
    }
   ],
   "source": [
    "join_w_data.loc[join_w_data['NEWLY_ALLOCATED'] == 21]['geometry'].plot()"
   ]
  },
  {
   "cell_type": "code",
   "execution_count": 378,
   "metadata": {
    "scrolled": true
   },
   "outputs": [
    {
     "data": {
      "text/plain": [
       "<AxesSubplot:>"
      ]
     },
     "execution_count": 378,
     "metadata": {},
     "output_type": "execute_result"
    },
    {
     "data": {
      "image/png": "[encoded data removed]",
      "text/plain": [
       "<Figure size 432x288 with 1 Axes>"
      ]
     },
     "metadata": {
      "needs_background": "light"
     },
     "output_type": "display_data"
    }
   ],
   "source": [
    "join_w_data.loc[join_w_data['NEWLY_ALLOCATED'] == 25]['geometry'].plot()"
   ]
  },
  {
   "cell_type": "code",
   "execution_count": 379,
   "metadata": {},
   "outputs": [
    {
     "data": {
      "text/plain": [
       "<AxesSubplot:>"
      ]
     },
     "execution_count": 379,
     "metadata": {},
     "output_type": "execute_result"
    },
    {
     "data": {
      "image/png": "[encoded data removed]",
      "text/plain": [
       "<Figure size 432x288 with 1 Axes>"
      ]
     },
     "metadata": {
      "needs_background": "light"
     },
     "output_type": "display_data"
    }
   ],
   "source": [
    "join_w_data.loc[join_w_data['NEWLY_ALLOCATED'] == 28]['geometry'].plot()"
   ]
  }
 ],
 "metadata": {
  "kernelspec": {
   "display_name": "Python 3",
   "language": "python",
   "name": "python3"
  },
  "language_info": {
   "codemirror_mode": {
    "name": "ipython",
    "version": 3
   },
   "file_extension": ".py",
   "mimetype": "text/x-python",
   "name": "python",
   "nbconvert_exporter": "python",
   "pygments_lexer": "ipython3",
   "version": "3.7.9"
  }
 },
 "nbformat": 4,
 "nbformat_minor": 2
}
